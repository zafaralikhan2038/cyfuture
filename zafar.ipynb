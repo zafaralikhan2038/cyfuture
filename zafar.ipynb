{
 "cells": [
  {
   "cell_type": "code",
   "execution_count": null,
   "metadata": {
    "vscode": {
     "languageId": "plaintext"
    }
   },
   "outputs": [],
   "source": [
    "# Install required libraries (run this separately in a Colab cell)\n",
    "!pip install diffusers transformers torch torchvision numpy matplotlib\n",
    "\n",
    "import torch\n",
    "from diffusers import StableDiffusionPipeline\n",
    "import matplotlib.pyplot as plt\n",
    "\n",
    "# Check if GPU is available\n",
    "device = \"cuda\" if torch.cuda.is_available() else \"cpu\"\n",
    "print(f\"Using device: {device}\")\n",
    "\n",
    "# Load Stable Diffusion model (requires Hugging Face token for first-time use)\n",
    "pipe = StableDiffusionPipeline.from_pretrained(\"runwayml/stable-diffusion-v1-5\")\n",
    "pipe.to(device)\n",
    "\n",
    "# Function to generate image from text\n",
    "def generate_image(prompt, guidance_scale=7.5, num_inference_steps=50):\n",
    "    print(\"Generating image... This may take a while.\")\n",
    "    with torch.autocast(device):  # Enable automatic mixed precision\n",
    "        image = pipe(prompt, guidance_scale=guidance_scale, num_inference_steps=num_inference_steps).images[0]\n",
    "    return image\n",
    "\n",
    "# Example prompt\n",
    "prompt = \"A futuristic city at sunset with flying cars\"\n",
    "generated_image = generate_image(prompt)\n",
    "\n",
    "# Display the generated image\n",
    "plt.imshow(generated_image)\n",
    "plt.axis(\"off\")\n",
    "plt.show()\n",
    "\n",
    "# Save the image\n",
    "generated_image.save(\"generated_image.png\")\n",
    "print(\"✅ Image saved as 'generated_image.png'\")"
   ]
  }
 ],
 "metadata": {
  "language_info": {
   "name": "python"
  }
 },
 "nbformat": 4,
 "nbformat_minor": 2
}
